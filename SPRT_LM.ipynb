{
  "nbformat": 4,
  "nbformat_minor": 0,
  "metadata": {
    "colab": {
      "name": "SPRT LM.ipynb",
      "provenance": [],
      "collapsed_sections": [],
      "include_colab_link": true
    },
    "kernelspec": {
      "name": "python3",
      "display_name": "Python 3"
    },
    "language_info": {
      "name": "python"
    }
  },
  "cells": [
    {
      "cell_type": "markdown",
      "metadata": {
        "id": "view-in-github",
        "colab_type": "text"
      },
      "source": [
        "<a href=\"https://colab.research.google.com/github/samsonq/AdaptiveKDE/blob/master/SPRT_LM.ipynb\" target=\"_parent\"><img src=\"https://colab.research.google.com/assets/colab-badge.svg\" alt=\"Open In Colab\"/></a>"
      ]
    },
    {
      "cell_type": "code",
      "metadata": {
        "id": "m1vxSXB1CtYi"
      },
      "source": [
        "import numpy as np \n",
        "import pandas as pd\n",
        "import math\n",
        "import scipy as sp"
      ],
      "execution_count": null,
      "outputs": []
    },
    {
      "cell_type": "code",
      "metadata": {
        "colab": {
          "base_uri": "https://localhost:8080/"
        },
        "id": "k2kVzAAz93gk",
        "outputId": "df565685-40c5-4083-ff77-b1357393b53e"
      },
      "source": [
        "!pip install sprt"
      ],
      "execution_count": null,
      "outputs": [
        {
          "output_type": "stream",
          "name": "stdout",
          "text": [
            "Collecting sprt\n",
            "  Downloading sprt-0.0.1.tar.gz (3.5 kB)\n",
            "Building wheels for collected packages: sprt\n",
            "  Building wheel for sprt (setup.py) ... \u001b[?25l\u001b[?25hdone\n",
            "  Created wheel for sprt: filename=sprt-0.0.1-py3-none-any.whl size=4036 sha256=78cbdfc629cdf1acd103a1b7f3d0b260ce52be6cd7302f560576bfa7670552a3\n",
            "  Stored in directory: /root/.cache/pip/wheels/8d/2d/0c/d0736d530abed996fcbfbe0aacc965e314249bd43af3b24c70\n",
            "Successfully built sprt\n",
            "Installing collected packages: sprt\n",
            "Successfully installed sprt-0.0.1\n"
          ]
        }
      ]
    },
    {
      "cell_type": "code",
      "metadata": {
        "id": "pF-kP-EN-Blf"
      },
      "source": [
        "import abc\n",
        "import matplotlib.pyplot as plt\n",
        "import matplotlib.ticker as ticker\n",
        "import numpy as np\n",
        "import pandas as pd\n",
        "import sys\n",
        "\n",
        "\n",
        "# SPRT test\n",
        "class SPRT:\n",
        "\n",
        "    __metaclass__ = abc.ABCMeta\n",
        "  \n",
        "    \"\"\"Run sequential probability ratio test (SPRT) for bindary/normal endpoints\"\"\"\n",
        "    # Init function\n",
        "    def __init__(self, alpha=0.05, beta=0.2,\n",
        "                 h0=0, h1=1, values=[], variance=0):\n",
        "\n",
        "        # Input arguments\n",
        "        self.alpha = alpha\n",
        "        self.beta = beta\n",
        "        self.h0 = h0\n",
        "        self.h1 = h1\n",
        "        self.values = values\n",
        "        self.cum_values = np.cumsum(self.values)\n",
        "        self.variance = variance\n",
        "        # Necessary arguments\n",
        "        self.upperCritical = np.log((1 - self.beta)/self.alpha)\n",
        "        self.lowerCritical = np.log(self.beta/(1 - self.alpha))\n",
        "        self.num_observation = len(values)\n",
        "        self._seq_observation = np.array(range(1, self.num_observation + 1))\n",
        "        self._x = np.array(range(0, self.num_observation + 2))\n",
        "        self._yl = self._yu = np.ones(self.num_observation + 2)\n",
        "        self.decision = None\n",
        "        # Check the arguments\n",
        "        self.__checkCommonArgs()\n",
        "        self.__checkOtherArgs()\n",
        "        # Calculate boundary\n",
        "        self.calBoundary()\n",
        "        # Sequential test\n",
        "        self.seqTest()\n",
        "\n",
        "    # Check common arguments in the fuction\n",
        "    def __checkCommonArgs(self):\n",
        "\n",
        "        if not all(0 < i < 1 for i in [self.alpha, self.beta]):\n",
        "\n",
        "            sys.stderr.write(\"Type I error rate and type II error rate are between 0 and 1!\")\n",
        "            sys.exit(1)\n",
        "\n",
        "    # Plot the boundary and points\n",
        "    def plot(self, boundaryColor=[\"#00aedb\", \"#d41243\",  \"#000000\"],  pointColor=\"#000000\", fill=True):\n",
        "\n",
        "        lowerBoundaryColor, upperBoundaryColor, continueColor = boundaryColor\n",
        "        fig, ax = plt.subplots(figsize=(8, 6))\n",
        "        lower_line, = ax.plot(self._x, self._yl, color=lowerBoundaryColor, linewidth=1, alpha=0.95)\n",
        "        upper_line, = ax.plot(self._x, self._yu, color=upperBoundaryColor,  linewidth=1,  alpha=0.95)\n",
        "        ax.scatter(self._seq_observation, self.cum_values, color=pointColor, zorder=1000, clip_on=False)\n",
        "        yticks, yticklabels = plt.yticks()\n",
        "        ymin = yticks[0]\n",
        "        ymax = yticks[-1]\n",
        "        if fill:\n",
        "\n",
        "            ax.fill_between(self._x, self._yl, ymin, color=lowerBoundaryColor, alpha=0.5)\n",
        "            ax.fill_between(self._x, self._yu, ymax, color=upperBoundaryColor, alpha=0.5)\n",
        "\n",
        "        ax.spines[\"top\"].set_visible(False)\n",
        "        ax.spines[\"right\"].set_visible(False)\n",
        "        ax.get_xaxis().tick_bottom()\n",
        "        ax.get_yaxis().tick_left()\n",
        "        ax.xaxis.set_major_locator(ticker.MaxNLocator(integer=True))\n",
        "        xticks, xticklabels = plt.xticks()\n",
        "        xmin = 0.95\n",
        "        xmax = self.num_observation + 0.05\n",
        "        plt.xlim(xmin, xmax)\n",
        "        plt.ylim(ymin, ymax)\n",
        "        plt.xlabel(\"Observations\")\n",
        "        plt.ylabel(\"Cumulative Sum\")\n",
        "        plt.legend(handles=[upper_line, lower_line], labels=[\"Reject Null\", \"Accept Null\"], fontsize=10, loc=2)\n",
        "        plt.show()\n",
        "\n",
        "    # Plot only the boundary values\n",
        "    def plotBoundary(self, boundaryColor=[\"#00aedb\", \"#d41243\"],  fill=True):\n",
        "\n",
        "        lowerBoundaryColor, upperBoundaryColor = boundaryColor\n",
        "        fig, ax = plt.subplots(figsize=(8, 6))\n",
        "        lower_line, = ax.plot(self._x, self._yl, color=lowerBoundaryColor, linewidth=1)\n",
        "        upper_line, = ax.plot(self._x, self._yu, color=upperBoundaryColor, linewidth=1)\n",
        "        yticks, yticklabels = plt.yticks()\n",
        "        ymin = yticks[0]\n",
        "        ymax = yticks[-1]\n",
        "        if fill:\n",
        "\n",
        "            ax.fill_between(self._x, self._yl, ymin, color=lowerBoundaryColor, alpha=0.5)\n",
        "            ax.fill_between(self._x, self._yu, ymax, color=upperBoundaryColor, alpha=0.5)\n",
        "\n",
        "        ax.spines[\"top\"].set_visible(False) \n",
        "        ax.spines[\"right\"].set_visible(False)\n",
        "        ax.get_xaxis().tick_bottom()\n",
        "        ax.get_yaxis().tick_left()\n",
        "        ax.xaxis.set_major_locator(ticker.MaxNLocator(integer=True))\n",
        "        plt.xlim(1, self.num_observation)\n",
        "        plt.ylim(ymin, ymax)\n",
        "        plt.xlabel(\"Observations\")\n",
        "        plt.ylabel(\"Cumulative Sum\")\n",
        "        plt.legend(handles = [upper_line, lower_line], labels=[\"Reject Null\", \"Accept Null\"], fontsize = 10, loc = 2)\n",
        "        plt.show()\n",
        "\n",
        "    # Get test result\n",
        "    def getResult(self, nobs=5, start=\"end\"):\n",
        "\n",
        "        print(\"Decision:\\t\" + self.decision + \"\\n\")\n",
        "        output_dict = {'values': self.cum_values, 'lower': self.lowerBoundary, 'upper': self.upperBoundary}\n",
        "        output_df = pd.DataFrame(output_dict, columns=['values', 'lower', 'upper'], index=self._seq_observation)\n",
        "        output_df.index.name = \"n\"\n",
        "        print(output_df.round(3).iloc[-nobs:])\n",
        "\n",
        "    # Sequential test\n",
        "    def seqTest(self):\n",
        "\n",
        "        self.test_statistic = self.cum_values[self.num_observation - 1]\n",
        "        if self.test_statistic > self.upperBoundary[self.num_observation - 1]:\n",
        "\n",
        "            self.decision = \"Reject\"\n",
        "\n",
        "        elif self.test_statistic < self.lowerBoundary[self.num_observation - 1]:\n",
        "\n",
        "            self.decision = \"Accept\"\n",
        "\n",
        "        else:\n",
        "\n",
        "            self.decision = \"Continue\"\n",
        "\n",
        "        header = 10 if self.num_observation > 10 else self.num_observation\n",
        "        self.getResult(nobs=header)\n",
        "\n",
        "    # Abstract method, calculate the boundary by time\n",
        "    @abc.abstractmethod\n",
        "    def calBoundary(self):\n",
        "\n",
        "        return\n",
        "\n",
        "    # Abstarct method, function to check other input arguments\n",
        "    @abc.abstractmethod\n",
        "    def __checkOtherArgs(self):\n",
        "\n",
        "        return\n",
        "\n",
        "\n",
        "# Binary Endpoint\n",
        "class SPRTBinomial(SPRT):\n",
        "\n",
        "    \"\"\"Run sequential probability ratio test (SPRT) for bindary endpoints\"\"\"\n",
        "    # Calculate boundary for binary outcome\n",
        "    def calBoundary(self):\n",
        "\n",
        "        self.denom = (np.log(self.h1/(1 - self.h1)) - np.log(self.h0/(1 - self.h0)))\n",
        "        self.slope = (np.log(1 - self.h0) - np.log(1 - self.h1)) / self.denom\n",
        "        self.lowerIntercept, self.upperIntercept = np.array([self.lowerCritical, self.upperCritical]) / self.denom\n",
        "        self.lowerBoundary = self._seq_observation * self.slope + self.lowerIntercept\n",
        "        self.upperBoundary = self._seq_observation * self.slope + self.upperIntercept\n",
        "        self._yl = self._x * self.slope + self.lowerIntercept\n",
        "        self._yu = self._x * self.slope + self.upperIntercept\n",
        "\n",
        "    # Check arguments\n",
        "    def _SPRT__checkOtherArgs(self):\n",
        "\n",
        "        # Check h0 and h1\n",
        "        if not all(0 < i < 1 for i in [self.h0, self.h1]):\n",
        "\n",
        "            sys.stderr.write(\"Null and alternative values are between 0 and 1!\")\n",
        "            sys.exit(1)\n",
        "\n",
        "        # Check values\n",
        "        if not all(i in [0, 1] for i in self.values):\n",
        "\n",
        "            sys.stderr.write(\"Value is a Beroulli variable!\")\n",
        "            sys.exit(1)\n",
        "\n",
        "\n",
        "# Normal Endpoint\n",
        "class SPRTNormal(SPRT):\n",
        "\n",
        "    \"\"\"Run sequential probability ratio test (SPRT) for normal endpoints\"\"\"\n",
        "    # Calculate boundary for normal outcome\n",
        "    def calBoundary(self):\n",
        "\n",
        "        self.slope = (self.h1 + self.h0)/2\n",
        "        self.lowerIntercept, self.upperIntercept = np.array([self.lowerCritical, self.upperCritical]) * self.variance / (self.h1 - self.h0)\n",
        "        self.lowerBoundary = self._seq_observation * self.slope + self.lowerIntercept\n",
        "        self.upperBoundary = self._seq_observation * self.slope + self.upperIntercept\n",
        "        self._yl = self._x * self.slope + self.lowerIntercept\n",
        "        self._yu = self._x * self.slope + self.upperIntercept\n",
        "\n",
        "    # Check arguments\n",
        "    def _SPRT__checkOtherArgs(self):\n",
        "\n",
        "        # Check variance\n",
        "        if self.variance <= 0:\n",
        "\n",
        "            sys.stderr.write(\"Variance of normal distribution is positive!\")\n",
        "            sys.exit(1)\n"
      ],
      "execution_count": null,
      "outputs": []
    },
    {
      "cell_type": "code",
      "metadata": {
        "id": "fyOmHfufFs6O"
      },
      "source": [
        ""
      ],
      "execution_count": null,
      "outputs": []
    },
    {
      "cell_type": "code",
      "metadata": {
        "colab": {
          "base_uri": "https://localhost:8080/",
          "height": 223
        },
        "id": "AkfxJ15KFwAJ",
        "outputId": "f21283b8-195b-48ca-c0ef-a47f4fb412f1"
      },
      "source": [
        "df.shape"
      ],
      "execution_count": null,
      "outputs": [
        {
          "output_type": "error",
          "ename": "NameError",
          "evalue": "ignored",
          "traceback": [
            "\u001b[0;31m---------------------------------------------------------------------------\u001b[0m",
            "\u001b[0;31mNameError\u001b[0m                                 Traceback (most recent call last)",
            "\u001b[0;32m<ipython-input-24-633337079cd0>\u001b[0m in \u001b[0;36m<module>\u001b[0;34m()\u001b[0m\n\u001b[0;32m----> 1\u001b[0;31m \u001b[0mdf\u001b[0m\u001b[0;34m.\u001b[0m\u001b[0mshape\u001b[0m\u001b[0;34m\u001b[0m\u001b[0;34m\u001b[0m\u001b[0m\n\u001b[0m",
            "\u001b[0;31mNameError\u001b[0m: name 'df' is not defined"
          ]
        }
      ]
    },
    {
      "cell_type": "code",
      "metadata": {
        "id": "YB5UENSSFJhL"
      },
      "source": [
        "## Calculating the initial distance metric: \n",
        "# https://www.machinelearningplus.com/statistics/mahalanobis-distance/"
      ],
      "execution_count": null,
      "outputs": []
    },
    {
      "cell_type": "code",
      "metadata": {
        "id": "jAznueqdFPH5"
      },
      "source": [
        "import scipy.optimize\n",
        "def mahalanobis(x=None, data=None, cov=None):\n",
        "    \"\"\"Compute the Mahalanobis Distance between each row of x and the data  \n",
        "    x    : vector or matrix of data with, say, p columns.\n",
        "    data : ndarray of the distribution from which Mahalanobis distance of each observation of x is to be computed.\n",
        "    cov  : covariance matrix (p x p) of the distribution. If None, will be computed from data.\n",
        "    \"\"\"\n",
        "    x_minus_mu = x - np.mean(data)\n",
        "    if not cov:\n",
        "        cov = np.cov(data.values.T)\n",
        "    inv_covmat = scipy.linalg.inv(cov)\n",
        "    left_term = np.dot(x_minus_mu, inv_covmat)\n",
        "    mahal = np.dot(left_term, x_minus_mu.T)\n",
        "    return mahal.diagonal()\n"
      ],
      "execution_count": null,
      "outputs": []
    },
    {
      "cell_type": "code",
      "metadata": {
        "id": "Zl9i_TVRFOth"
      },
      "source": [
        "delta_dist = mahalanobis(x=df, data=df[['carat', 'depth', 'price']]) # this is the existing distance metric (distribution)"
      ],
      "execution_count": null,
      "outputs": []
    },
    {
      "cell_type": "code",
      "metadata": {
        "id": "hyg8vCBkIwDy"
      },
      "source": [
        "## we will now fit distribution (PARAMETRIC) and determine the probability that that value is less than gamma (fixed value)"
      ],
      "execution_count": null,
      "outputs": []
    },
    {
      "cell_type": "code",
      "metadata": {
        "colab": {
          "base_uri": "https://localhost:8080/"
        },
        "id": "VqF70qQC90c5",
        "outputId": "1aa72f42-d910-4d76-c914-f2715dff1a11"
      },
      "source": [
        "# SPRT \n",
        "# Binomial Endpoints\n",
        "import sprt as sprt\n",
        "import numpy as np\n",
        "\n",
        "h0 = 0.5\n",
        "h1 = 0.55\n",
        "# Type I error rate = 0.05\n",
        "alpha = 0.05\n",
        "# Type II error rate = 0.2\n",
        "beta = 0.2\n",
        "# Values\n",
        "values = np.random.binomial(1, 0.55, 100)\n",
        "test = sprt.SPRTBinomial(h0 = h0, h1 = h1, alpha = alpha, beta = beta, values = values)"
      ],
      "execution_count": null,
      "outputs": [
        {
          "output_type": "stream",
          "name": "stdout",
          "text": [
            "Decision:\tContinue\n",
            "\n",
            "     values   lower   upper\n",
            "n                          \n",
            "91       48  40.014  61.595\n",
            "92       49  40.539  62.120\n",
            "93       50  41.064  62.646\n",
            "94       50  41.589  63.171\n",
            "95       50  42.114  63.696\n",
            "96       50  42.639  64.221\n",
            "97       50  43.164  64.746\n",
            "98       50  43.689  65.271\n",
            "99       51  44.214  65.796\n",
            "100      52  44.740  66.321\n"
          ]
        }
      ]
    },
    {
      "cell_type": "code",
      "metadata": {
        "id": "lNkadeF191bd"
      },
      "source": [
        "## the method converges after we have hit a particular value for the Lambda parameter"
      ],
      "execution_count": null,
      "outputs": []
    },
    {
      "cell_type": "code",
      "metadata": {
        "colab": {
          "base_uri": "https://localhost:8080/"
        },
        "id": "fiGzJPSw_wzO",
        "outputId": "4017f37b-470d-4e48-ce83-d1a236cbe1ea"
      },
      "source": [
        "%matplotlib inline\n",
        "import numpy as np\n",
        "from scipy import stats\n",
        "import statsmodels.api as sm\n",
        "import matplotlib.pyplot as plt\n",
        "from statsmodels.distributions.mixture_rvs import mixture_rvs"
      ],
      "execution_count": null,
      "outputs": [
        {
          "output_type": "stream",
          "name": "stderr",
          "text": [
            "/usr/local/lib/python3.7/dist-packages/statsmodels/tools/_testing.py:19: FutureWarning: pandas.util.testing is deprecated. Use the functions in the public API at pandas.testing instead.\n",
            "  import pandas.util.testing as tm\n"
          ]
        }
      ]
    },
    {
      "cell_type": "code",
      "metadata": {
        "id": "HAL2AAD-_xAt"
      },
      "source": [
        "np.random.seed(12345)"
      ],
      "execution_count": null,
      "outputs": []
    },
    {
      "cell_type": "code",
      "metadata": {
        "id": "j2l4OHYCAL2X"
      },
      "source": [
        "### BELOW WE HAVE A BINOMIAL DISTRIBUTION: a combination of two normal distributions"
      ],
      "execution_count": null,
      "outputs": []
    },
    {
      "cell_type": "code",
      "metadata": {
        "id": "CI8qnQnqAXGk"
      },
      "source": [
        "# https://www.statsmodels.org/stable/examples/notebooks/generated/kernel_density.html"
      ],
      "execution_count": null,
      "outputs": []
    },
    {
      "cell_type": "code",
      "metadata": {
        "id": "bU5M3DQn_0Ky"
      },
      "source": [
        "\n",
        "# Location, scale and weight for the two distributions\n",
        "dist1_loc, dist1_scale, weight1 = -1, 0.5, 0.40\n",
        "dist2_loc, dist2_scale, weight2 = 1, 0.5, 0.60\n",
        "\n",
        "# Sample from a mixture of distributions\n",
        "obs_dist = mixture_rvs(\n",
        "    prob=[weight1, weight2],\n",
        "    size=250,\n",
        "    dist=[stats.norm, stats.norm],\n",
        "    kwargs=(\n",
        "        dict(loc=dist1_loc, scale=dist1_scale),\n",
        "        dict(loc=dist2_loc, scale=dist2_scale),\n",
        "    ),\n",
        ")"
      ],
      "execution_count": null,
      "outputs": []
    },
    {
      "cell_type": "code",
      "metadata": {
        "colab": {
          "base_uri": "https://localhost:8080/",
          "height": 308
        },
        "id": "hL8-YvfT_9u3",
        "outputId": "21d95a0c-3a97-44c1-92fa-33cbe9230570"
      },
      "source": [
        "\n",
        "fig = plt.figure(figsize=(12, 5))\n",
        "ax = fig.add_subplot(111)\n",
        "\n",
        "# Scatter plot of data samples and histogram\n",
        "ax.scatter(\n",
        "    obs_dist,\n",
        "    np.abs(np.random.randn(obs_dist.size)),\n",
        "    zorder=15,\n",
        "    color=\"red\",\n",
        "    marker=\"x\",\n",
        "    alpha=0.5,\n",
        "    label=\"Samples\",\n",
        ")\n",
        "lines = ax.hist(obs_dist, bins=20, edgecolor=\"k\", label=\"Histogram\")\n",
        "\n",
        "ax.legend(loc=\"best\")\n",
        "ax.grid(True, zorder=-5)"
      ],
      "execution_count": null,
      "outputs": [
        {
          "output_type": "display_data",
          "data": {
            "image/png": "[encoded data removed]",
            "text/plain": [
              "<Figure size 864x360 with 1 Axes>"
            ]
          },
          "metadata": {
            "needs_background": "light"
          }
        }
      ]
    },
    {
      "cell_type": "code",
      "metadata": {
        "id": "1qgn8mkvAHC7"
      },
      "source": [
        "kde = sm.nonparametric.KDEUnivariate(obs_dist)\n",
        "kde.fit()  # Estimate the densities"
      ],
      "execution_count": null,
      "outputs": []
    },
    {
      "cell_type": "code",
      "metadata": {
        "colab": {
          "base_uri": "https://localhost:8080/",
          "height": 340
        },
        "id": "yiwvuduCASwi",
        "outputId": "1e784b79-93ac-49ee-bc14-af8ac256fa69"
      },
      "source": [
        "fig = plt.figure(figsize=(12, 5))\n",
        "ax = fig.add_subplot(111)\n",
        "\n",
        "# Plot the histrogram\n",
        "ax.hist(\n",
        "    obs_dist,\n",
        "    bins=30,\n",
        "    density=True,\n",
        "    label=\"Histogram from samples\",\n",
        "    zorder=5,\n",
        "    edgecolor=\"k\",\n",
        "    alpha=0.5,\n",
        ")\n",
        "\n",
        "# Plot the KDE as fitted using the default arguments\n",
        "ax.plot(kde.support, kde.density, lw=3, label=\"KDE from samples\", zorder=10)\n",
        "\n",
        "# Plot the true distribution\n",
        "true_values = (\n",
        "    stats.norm.pdf(loc=dist1_loc, scale=dist1_scale, x=kde.support) * weight1\n",
        "    + stats.norm.pdf(loc=dist2_loc, scale=dist2_scale, x=kde.support) * weight2\n",
        ")\n",
        "ax.plot(kde.support, true_values, lw=3, label=\"True distribution\", zorder=15)\n",
        "\n",
        "# Plot the samples\n",
        "ax.scatter(\n",
        "    obs_dist,\n",
        "    np.abs(np.random.randn(obs_dist.size)) / 40,\n",
        "    marker=\"x\",\n",
        "    color=\"red\",\n",
        "    zorder=20,\n",
        "    label=\"Samples\",\n",
        "    alpha=0.5,\n",
        ")\n",
        "\n",
        "ax.legend(loc=\"best\")\n",
        "ax.grid(True, zorder=-5)"
      ],
      "execution_count": null,
      "outputs": [
        {
          "output_type": "display_data",
          "data": {
            "image/png": "[encoded data removed]",
            "text/plain": [
              "<Figure size 864x360 with 1 Axes>"
            ]
          },
          "metadata": {
            "needs_background": "light"
          }
        }
      ]
    },
    {
      "cell_type": "code",
      "metadata": {
        "id": "MkOtrYmuAaJG"
      },
      "source": [
        "### WE CAN ALSO VARY THE BANDWIDTH"
      ],
      "execution_count": null,
      "outputs": []
    },
    {
      "cell_type": "code",
      "metadata": {
        "colab": {
          "base_uri": "https://localhost:8080/",
          "height": 306
        },
        "id": "ZRkaSLjqAjck",
        "outputId": "2c1b31e2-9002-4fd3-9035-a4bc34ef872a"
      },
      "source": [
        "fig = plt.figure(figsize=(12, 5))\n",
        "ax = fig.add_subplot(111)\n",
        "\n",
        "# Plot the histrogram\n",
        "ax.hist(\n",
        "    obs_dist,\n",
        "    bins=25,\n",
        "    label=\"Histogram from samples\",\n",
        "    zorder=5,\n",
        "    edgecolor=\"k\",\n",
        "    density=True,\n",
        "    alpha=0.5,\n",
        ")\n",
        "\n",
        "# Plot the KDE for various bandwidths\n",
        "for bandwidth in [0.1, 0.2, 0.3, 0.4, 0.5]:\n",
        "    kde.fit(bw=bandwidth)  # Estimate the densities\n",
        "    ax.plot(\n",
        "        kde.support,\n",
        "        kde.density,\n",
        "        \"--\",\n",
        "        lw=2,\n",
        "        color=\"k\",\n",
        "        zorder=10,\n",
        "        label=\"KDE from samples, bw = {}\".format(round(bandwidth, 2)),\n",
        "    )\n",
        "\n",
        "# Plot the true distribution\n",
        "ax.plot(kde.support, true_values, lw=3, label=\"True distribution\", zorder=15)\n",
        "\n",
        "# Plot the samples\n",
        "ax.scatter(\n",
        "    obs_dist,\n",
        "    np.abs(np.random.randn(obs_dist.size)) / 50,\n",
        "    marker=\"x\",\n",
        "    color=\"red\",\n",
        "    zorder=20,\n",
        "    label=\"Data samples\",\n",
        "    alpha=0.5,\n",
        ")\n",
        "\n",
        "ax.legend(loc=\"best\")\n",
        "ax.set_xlim([-3, 3])\n",
        "ax.grid(True, zorder=-5)"
      ],
      "execution_count": null,
      "outputs": [
        {
          "output_type": "display_data",
          "data": {
            "image/png": "[encoded data removed]",
            "text/plain": [
              "<Figure size 864x360 with 1 Axes>"
            ]
          },
          "metadata": {
            "needs_background": "light"
          }
        }
      ]
    },
    {
      "cell_type": "code",
      "metadata": {
        "id": "JLrmlEnRApt5"
      },
      "source": [
        "sampled = np.array(kde.density) ## this has now been sampled form the probability distribution we have fit on the data"
      ],
      "execution_count": null,
      "outputs": []
    },
    {
      "cell_type": "code",
      "metadata": {
        "id": "2UpaePPUBPAJ"
      },
      "source": [
        "s2 = np.random.rand(512,)\n",
        "\n",
        "df = pd.DataFrame([sampled, s2]).T\n"
      ],
      "execution_count": null,
      "outputs": []
    },
    {
      "cell_type": "code",
      "metadata": {
        "colab": {
          "base_uri": "https://localhost:8080/",
          "height": 447
        },
        "id": "e9s65SEIC7_T",
        "outputId": "494bb6d6-fc62-44fa-da6f-056b231dba87"
      },
      "source": [
        "df"
      ],
      "execution_count": null,
      "outputs": [
        {
          "output_type": "execute_result",
          "data": {
            "text/html": [
              "<div>\n",
              "<style scoped>\n",
              "    .dataframe tbody tr th:only-of-type {\n",
              "        vertical-align: middle;\n",
              "    }\n",
              "\n",
              "    .dataframe tbody tr th {\n",
              "        vertical-align: top;\n",
              "    }\n",
              "\n",
              "    .dataframe thead th {\n",
              "        text-align: right;\n",
              "    }\n",
              "</style>\n",
              "<table border=\"1\" class=\"dataframe\">\n",
              "  <thead>\n",
              "    <tr style=\"text-align: right;\">\n",
              "      <th></th>\n",
              "      <th>0</th>\n",
              "      <th>1</th>\n",
              "    </tr>\n",
              "  </thead>\n",
              "  <tbody>\n",
              "    <tr>\n",
              "      <th>0</th>\n",
              "      <td>0.000126</td>\n",
              "      <td>0.142782</td>\n",
              "    </tr>\n",
              "    <tr>\n",
              "      <th>1</th>\n",
              "      <td>0.000121</td>\n",
              "      <td>0.402784</td>\n",
              "    </tr>\n",
              "    <tr>\n",
              "      <th>2</th>\n",
              "      <td>0.000118</td>\n",
              "      <td>0.220461</td>\n",
              "    </tr>\n",
              "    <tr>\n",
              "      <th>3</th>\n",
              "      <td>0.000116</td>\n",
              "      <td>0.980460</td>\n",
              "    </tr>\n",
              "    <tr>\n",
              "      <th>4</th>\n",
              "      <td>0.000114</td>\n",
              "      <td>0.577380</td>\n",
              "    </tr>\n",
              "    <tr>\n",
              "      <th>...</th>\n",
              "      <td>...</td>\n",
              "      <td>...</td>\n",
              "    </tr>\n",
              "    <tr>\n",
              "      <th>507</th>\n",
              "      <td>0.000166</td>\n",
              "      <td>0.704549</td>\n",
              "    </tr>\n",
              "    <tr>\n",
              "      <th>508</th>\n",
              "      <td>0.000155</td>\n",
              "      <td>0.547357</td>\n",
              "    </tr>\n",
              "    <tr>\n",
              "      <th>509</th>\n",
              "      <td>0.000146</td>\n",
              "      <td>0.113623</td>\n",
              "    </tr>\n",
              "    <tr>\n",
              "      <th>510</th>\n",
              "      <td>0.000138</td>\n",
              "      <td>0.543360</td>\n",
              "    </tr>\n",
              "    <tr>\n",
              "      <th>511</th>\n",
              "      <td>0.000131</td>\n",
              "      <td>0.839477</td>\n",
              "    </tr>\n",
              "  </tbody>\n",
              "</table>\n",
              "<p>512 rows × 2 columns</p>\n",
              "</div>"
            ],
            "text/plain": [
              "            0         1\n",
              "0    0.000126  0.142782\n",
              "1    0.000121  0.402784\n",
              "2    0.000118  0.220461\n",
              "3    0.000116  0.980460\n",
              "4    0.000114  0.577380\n",
              "..        ...       ...\n",
              "507  0.000166  0.704549\n",
              "508  0.000155  0.547357\n",
              "509  0.000146  0.113623\n",
              "510  0.000138  0.543360\n",
              "511  0.000131  0.839477\n",
              "\n",
              "[512 rows x 2 columns]"
            ]
          },
          "metadata": {},
          "execution_count": 45
        }
      ]
    },
    {
      "cell_type": "code",
      "metadata": {
        "id": "zqvQeMgqBu2u"
      },
      "source": [
        "delta_dist = np.array(mahalanobis(x=df, data=df.iloc[:,:])).reshape(-1,1)"
      ],
      "execution_count": null,
      "outputs": []
    },
    {
      "cell_type": "code",
      "metadata": {
        "colab": {
          "base_uri": "https://localhost:8080/"
        },
        "id": "5NOWLK2UCEdh",
        "outputId": "fd5b0145-e941-4b65-b047-5dcab2a5b7b2"
      },
      "source": [
        "from sklearn.preprocessing import StandardScaler\n",
        "\n",
        "scaler = StandardScaler()\n",
        "print(scaler.fit(delta_dist))\n",
        "StandardScaler()\n",
        "x = scaler.transform(delta_dist)"
      ],
      "execution_count": null,
      "outputs": [
        {
          "output_type": "stream",
          "name": "stdout",
          "text": [
            "StandardScaler(copy=True, with_mean=True, with_std=True)\n"
          ]
        }
      ]
    },
    {
      "cell_type": "code",
      "metadata": {
        "id": "0Q4r50jrE5eO"
      },
      "source": [
        "x = x.reshape(512,)"
      ],
      "execution_count": null,
      "outputs": []
    },
    {
      "cell_type": "code",
      "metadata": {
        "colab": {
          "base_uri": "https://localhost:8080/"
        },
        "id": "rc6y1olAFCuZ",
        "outputId": "afed8dcf-f48a-40b4-d2dc-7e3580702846"
      },
      "source": [
        "x"
      ],
      "execution_count": null,
      "outputs": [
        {
          "output_type": "execute_result",
          "data": {
            "text/plain": [
              "array([ 0.45791439, -0.59217234,  0.00543662,  1.81872348, -0.55336631,\n",
              "       -0.31451573, -0.63149216,  1.06366886, -0.58612461, -0.40025402,\n",
              "        0.0932778 ,  0.09645516, -0.44887697,  0.33804706,  1.90810567,\n",
              "        0.33308044, -0.64891206, -0.62442422,  0.37580502, -0.37934471,\n",
              "        0.01025965, -0.17062979,  0.89327341, -0.62127046,  0.74227822,\n",
              "       -0.49472006,  0.97149916,  0.22960654,  1.64932278,  0.50504718,\n",
              "       -0.54516474, -0.39717359,  0.16553249,  1.0914387 , -0.62117642,\n",
              "       -0.60608088,  0.37356254,  0.03782392, -0.63522653,  0.78989487,\n",
              "       -0.61528357,  0.05280043, -0.33391365,  0.44241892,  0.0383517 ,\n",
              "       -0.35487089,  0.4791406 , -0.36257846, -0.66864289, -0.3281849 ,\n",
              "        1.22123962, -0.56478314, -0.65302126,  0.41689703,  0.32996373,\n",
              "       -0.10652857, -0.13815063, -0.49687908, -0.68894673,  0.04602798,\n",
              "        0.94279079,  0.05814925,  0.46520505,  0.43286795, -0.70631152,\n",
              "        0.23302345,  1.14464557,  1.40342687, -0.41219169, -0.08453721,\n",
              "       -0.13818784, -0.65979214, -0.63888853,  1.23669191,  0.87319762,\n",
              "        1.22318956,  1.27786749, -0.32522728, -0.71501717,  0.42463446,\n",
              "       -0.39653864,  0.03983482, -0.77633704, -0.77382765,  0.54136334,\n",
              "       -0.67358297, -0.82711807, -0.03882544,  0.46725116, -0.84798837,\n",
              "       -0.03441578, -0.86350142,  0.04236569,  0.63892679, -0.56140182,\n",
              "        0.8234832 , -0.87622207, -0.81016172,  1.02088688, -0.89972188,\n",
              "       -0.99213489, -0.98810877, -0.83565302,  1.19914402, -0.51295844,\n",
              "       -1.06363009, -0.16854839, -1.09943343, -0.5646668 ,  1.07643887,\n",
              "       -1.14782515, -0.48596753,  0.62338834, -1.1805878 , -0.13178734,\n",
              "       -0.02807109, -1.19841031,  0.0188413 , -1.21123393,  0.02277288,\n",
              "       -0.35592922, -0.32163611,  0.72909569, -1.126548  , -0.46322213,\n",
              "       -1.39040717, -1.254363  ,  0.30482094,  0.26713906,  1.10286209,\n",
              "       -1.01711512, -0.11255641, -0.89540602, -1.38646628, -1.51997762,\n",
              "        0.19457332, -1.55543285, -1.41464154, -0.31108994, -1.57021118,\n",
              "       -0.53492554, -1.20769888, -1.21052277, -1.51183966, -1.52049707,\n",
              "        0.25062964, -0.33020126, -1.05803342, -1.08447415, -0.51079565,\n",
              "       -0.38670545, -0.28753138, -1.43774437, -1.06693489,  0.81417975,\n",
              "       -1.56472128, -1.32599928,  0.31375193, -1.42081576, -1.49465448,\n",
              "       -1.12677681, -0.5434655 , -1.40878999, -1.41639732, -0.04362066,\n",
              "       -1.17588338, -0.87677958,  0.7867403 , -0.92035939, -1.28825091,\n",
              "       -0.59791973, -0.35734421, -0.65125426,  1.08458198, -0.0801256 ,\n",
              "       -0.64058749,  0.71070224,  0.90977007, -0.5496547 , -1.02740768,\n",
              "        0.64743884,  0.29399975,  0.3440358 , -1.03553429, -0.5627608 ,\n",
              "        0.98158383, -1.01849741, -0.88895553, -0.67578788, -0.96138144,\n",
              "       -0.87650621, -0.52734162,  0.33669512,  1.37055062, -0.96020439,\n",
              "        0.25586022, -0.95757372, -0.94600344,  0.58767384, -0.43174555,\n",
              "        0.50943507, -0.81244681, -0.89583445, -0.07636251, -0.70336412,\n",
              "       -1.01345661, -0.314402  , -0.97293288,  1.18404114, -0.97835259,\n",
              "       -0.80485531,  1.21112271,  0.02793575,  0.0441421 ,  0.2252294 ,\n",
              "       -0.89968117, -0.52985695,  0.65237319, -0.26453935, -1.07395459,\n",
              "       -1.1864283 , -0.54806165,  0.92973015,  0.41873744,  0.39989653,\n",
              "       -0.7407261 , -1.28368311,  0.45606469,  0.23201408, -0.61106502,\n",
              "       -1.17986878, -1.0356015 ,  1.02056384, -1.08497072, -1.18714989,\n",
              "       -1.09102427,  0.63279213, -0.6342155 ,  0.76814462, -1.37580048,\n",
              "       -1.32654366, -1.37368652,  0.31938232,  0.7660623 , -1.07258398,\n",
              "       -0.22525971,  0.3560202 ,  0.91143402, -0.96933556, -1.38080269,\n",
              "       -0.70309184, -1.25218773,  0.01522932, -0.35028083, -1.09922739,\n",
              "       -1.00557434,  0.09021552,  0.43487137, -1.32060338, -1.04001662,\n",
              "       -0.17050521, -0.56826596,  0.91325513, -0.31181946, -1.08397362,\n",
              "        0.02684207, -1.06817884, -1.01323475, -0.83157462,  0.93771074,\n",
              "        1.2146194 , -0.39431837, -0.31171502, -0.91282363, -0.00597959,\n",
              "        0.31887703, -0.51103244, -0.79474063,  1.60313488, -0.69393537,\n",
              "        1.0432758 ,  0.35952966, -0.60623226, -0.51726602, -0.40603047,\n",
              "       -0.18306599, -0.17981798, -0.3201157 ,  1.52324225,  1.45346372,\n",
              "        2.16483107,  1.13156951,  0.53416324,  0.37453859,  2.34644019,\n",
              "        1.75672453,  2.38597615,  0.69423047,  0.33385861,  2.44553674,\n",
              "        1.53437972,  2.88771887,  1.28512535,  1.85768501,  1.29200624,\n",
              "        2.21492664,  1.73326052,  0.92716921,  2.58485015,  2.38054356,\n",
              "        1.23675078,  1.0015538 ,  1.40335475,  1.18092333,  1.40438808,\n",
              "        1.39725331,  2.29147674,  1.66697358,  2.22406374,  2.6851599 ,\n",
              "        1.23300283,  1.68418168,  1.34546502,  1.25098563,  2.50622504,\n",
              "        3.4739922 ,  2.011565  ,  1.82226286,  1.24154726,  2.42870521,\n",
              "        2.33086478,  1.1886666 ,  3.08626258,  1.96803185,  1.58511469,\n",
              "        1.26636527,  1.29886123,  1.51856182,  1.29476248,  2.13713587,\n",
              "        2.25908446,  1.97638466,  0.69416924,  0.54656904,  2.10899723,\n",
              "        1.72452256,  2.21419256,  0.87855048,  0.22246602,  2.47552341,\n",
              "        1.56913545,  0.16323899,  1.44659892, -0.10805388,  0.95361673,\n",
              "       -0.26857801,  1.057113  , -0.11291474, -0.16814561, -0.1335077 ,\n",
              "        0.00882925, -0.61037707,  0.44920515, -0.78308376,  0.06319507,\n",
              "        0.59640568,  0.18472355, -0.14773741, -0.82980435,  0.67935417,\n",
              "       -1.15989285, -0.98277084,  0.57524729,  0.84205629, -1.29213619,\n",
              "       -1.01652815, -1.39218086, -0.92854915, -0.89948889, -1.40287292,\n",
              "        0.57526911,  0.80376044, -1.50517493, -0.92714713, -1.57228392,\n",
              "       -1.58286676, -0.66415342,  0.81771634, -1.57549301,  0.27149373,\n",
              "       -1.44868378, -1.57934925, -1.54488723, -0.69083815,  0.2550602 ,\n",
              "        0.43436878, -0.51257343, -0.52463445, -1.55956234,  0.27391206,\n",
              "       -0.78441698, -1.49914029, -1.47867339, -1.52078775, -0.90222653,\n",
              "       -1.47220842, -0.2406637 , -0.12516396, -1.43364413, -0.98685503,\n",
              "       -1.37281363, -0.71643006, -0.69642639, -1.09622043,  0.36130627,\n",
              "        0.58240215,  0.79223599, -0.12311444, -0.96955541, -1.22941933,\n",
              "       -0.6340788 , -0.95126068, -0.14307838, -1.0815307 , -0.96151153,\n",
              "       -0.93697429, -0.53933967, -1.06677159,  0.36534224,  0.92406178,\n",
              "       -0.42843379, -0.76571715, -0.94023185, -0.2711344 ,  1.07545971,\n",
              "       -0.64163993,  1.23916157, -0.64469441, -0.39490063,  0.02060678,\n",
              "        0.88224105, -0.1038838 ,  1.76707699, -0.43628022, -0.83813585,\n",
              "       -0.71688366, -0.49547556, -0.56217203,  0.34530685,  1.61711192,\n",
              "        1.34642265, -0.78916036,  0.10553104,  0.32614215, -0.74702219,\n",
              "        0.99371292, -0.75256153, -0.72890737,  0.10197261,  1.2473233 ,\n",
              "       -0.1314787 , -0.29460276, -0.52172022,  0.332974  ,  0.30987341,\n",
              "       -0.70407859,  0.27435993,  0.71430647, -0.37836588,  1.10847055,\n",
              "        0.47625498,  0.34962917,  0.53420524, -0.14433552,  0.19954637,\n",
              "        0.17898067, -0.60401299,  1.02208915, -0.11860476,  0.8987536 ,\n",
              "       -0.36315636,  0.52383675, -0.59788589, -0.54947021, -0.01316051,\n",
              "        1.22346208, -0.65249258,  1.56699304, -0.65661329, -0.44248276,\n",
              "       -0.60567708,  0.41282109, -0.57824608, -0.34313706, -0.61218848,\n",
              "        0.65223316, -0.20662492, -0.59669585,  1.11921223,  0.53071993,\n",
              "        0.64124036,  1.09473578, -0.35204809,  0.59163958, -0.12114617,\n",
              "        0.2202605 ,  0.84441775, -0.14976366, -0.6031976 ,  0.65805652,\n",
              "       -0.60815501,  0.62653903])"
            ]
          },
          "metadata": {},
          "execution_count": 69
        }
      ]
    },
    {
      "cell_type": "code",
      "metadata": {
        "id": "MwkuLwu4D4VZ"
      },
      "source": [
        "threshold = 0.30\n",
        "prior_prob = np.sum(x > threshold) / x.shape[0]"
      ],
      "execution_count": null,
      "outputs": []
    },
    {
      "cell_type": "code",
      "metadata": {
        "colab": {
          "base_uri": "https://localhost:8080/"
        },
        "id": "T_8WmjyEFA3h",
        "outputId": "54955c9f-79e1-40df-c9c9-a9609b5fbbf8"
      },
      "source": [
        "prior_prob"
      ],
      "execution_count": null,
      "outputs": [
        {
          "output_type": "execute_result",
          "data": {
            "text/plain": [
              "0.365234375"
            ]
          },
          "metadata": {},
          "execution_count": 73
        }
      ]
    },
    {
      "cell_type": "code",
      "metadata": {
        "colab": {
          "base_uri": "https://localhost:8080/"
        },
        "id": "CMjzg2mFDX4Y",
        "outputId": "b7244126-7ebb-4dc3-e877-285e4aafc4b1"
      },
      "source": [
        "# SPRT \n",
        "# Binomial Endpoints\n",
        "import sprt as sprt\n",
        "import numpy as np\n",
        "\n",
        "h0 = prior_prob - 0.05\n",
        "h1 = prior_prob + 0.05\n",
        "# Type I error rate = 0.05\n",
        "alpha = 0.05\n",
        "# Type II error rate = 0.2\n",
        "beta = 0.2\n",
        "# Values\n",
        "values = np.random.binomial(1, prior_prob, 100)\n",
        "test = sprt.SPRTBinomial(h0 = h0, h1 = h1, alpha = alpha, beta = beta, values = values)"
      ],
      "execution_count": null,
      "outputs": [
        {
          "output_type": "stream",
          "name": "stdout",
          "text": [
            "Decision:\tContinue\n",
            "\n",
            "     values   lower   upper\n",
            "n                          \n",
            "91       37  29.552  39.545\n",
            "92       37  29.916  39.909\n",
            "93       37  30.281  40.273\n",
            "94       37  30.645  40.637\n",
            "95       38  31.009  41.002\n",
            "96       38  31.373  41.366\n",
            "97       39  31.738  41.730\n",
            "98       40  32.102  42.094\n",
            "99       40  32.466  42.459\n",
            "100      41  32.830  42.823\n"
          ]
        }
      ]
    },
    {
      "cell_type": "code",
      "metadata": {
        "colab": {
          "base_uri": "https://localhost:8080/"
        },
        "id": "H1bnial1EEVv",
        "outputId": "5efbd8f1-fd9a-4de5-f42d-9a6568d9f172"
      },
      "source": [
        "\n",
        "norm_data"
      ],
      "execution_count": null,
      "outputs": [
        {
          "output_type": "execute_result",
          "data": {
            "text/plain": [
              "array(StandardScaler(copy=True, with_mean=True, with_std=True),\n",
              "      dtype=object)"
            ]
          },
          "metadata": {},
          "execution_count": 55
        }
      ]
    },
    {
      "cell_type": "code",
      "metadata": {
        "id": "IN6DYLGrQuJA",
        "outputId": "13b693d6-959d-4815-f09c-4f820659de0d",
        "colab": {
          "base_uri": "https://localhost:8080/",
          "height": 328
        }
      },
      "source": [
        "import awkde"
      ],
      "execution_count": null,
      "outputs": [
        {
          "output_type": "error",
          "ename": "ModuleNotFoundError",
          "evalue": "ignored",
          "traceback": [
            "\u001b[0;31m---------------------------------------------------------------------------\u001b[0m",
            "\u001b[0;31mModuleNotFoundError\u001b[0m                       Traceback (most recent call last)",
            "\u001b[0;32m<ipython-input-3-c569f25cbf1e>\u001b[0m in \u001b[0;36m<module>\u001b[0;34m()\u001b[0m\n\u001b[0;32m----> 1\u001b[0;31m \u001b[0;32mimport\u001b[0m \u001b[0mawkde\u001b[0m\u001b[0;34m\u001b[0m\u001b[0;34m\u001b[0m\u001b[0m\n\u001b[0m",
            "\u001b[0;31mModuleNotFoundError\u001b[0m: No module named 'awkde'",
            "",
            "\u001b[0;31m---------------------------------------------------------------------------\u001b[0;32m\nNOTE: If your import is failing due to a missing package, you can\nmanually install dependencies using either !pip or !apt.\n\nTo view examples of installing some common dependencies, click the\n\"Open Examples\" button below.\n\u001b[0;31m---------------------------------------------------------------------------\u001b[0m\n"
          ],
          "errorDetails": {
            "actions": [
              {
                "action": "open_url",
                "actionText": "Open Examples",
                "url": "/notebooks/snippets/importing_libraries.ipynb"
              }
            ]
          }
        }
      ]
    },
    {
      "cell_type": "code",
      "metadata": {
        "id": "Zh1ElsFqEFM2",
        "outputId": "57c2b00b-9613-4662-a91d-55e2ed61a80e",
        "colab": {
          "base_uri": "https://localhost:8080/",
          "height": 364
        }
      },
      "source": [
        "\n",
        "import numpy as np\n",
        "import scipy.stats as scs\n",
        "import matplotlib.pyplot as plt\n",
        "import matplotlib.gridspec as gridspec\n",
        "from matplotlib.colors import LogNorm\n",
        "\n",
        "from awkde import GaussianKDE\n"
      ],
      "execution_count": null,
      "outputs": [
        {
          "output_type": "error",
          "ename": "ModuleNotFoundError",
          "evalue": "ignored",
          "traceback": [
            "\u001b[0;31m---------------------------------------------------------------------------\u001b[0m",
            "\u001b[0;31mModuleNotFoundError\u001b[0m                       Traceback (most recent call last)",
            "\u001b[0;32m<ipython-input-1-a9c066fdaf34>\u001b[0m in \u001b[0;36m<module>\u001b[0;34m()\u001b[0m\n\u001b[1;32m      6\u001b[0m \u001b[0;32mfrom\u001b[0m \u001b[0mmatplotlib\u001b[0m\u001b[0;34m.\u001b[0m\u001b[0mcolors\u001b[0m \u001b[0;32mimport\u001b[0m \u001b[0mLogNorm\u001b[0m\u001b[0;34m\u001b[0m\u001b[0;34m\u001b[0m\u001b[0m\n\u001b[1;32m      7\u001b[0m \u001b[0;34m\u001b[0m\u001b[0m\n\u001b[0;32m----> 8\u001b[0;31m \u001b[0;32mfrom\u001b[0m \u001b[0mawkde\u001b[0m \u001b[0;32mimport\u001b[0m \u001b[0mGaussianKDE\u001b[0m\u001b[0;34m\u001b[0m\u001b[0;34m\u001b[0m\u001b[0m\n\u001b[0m",
            "\u001b[0;31mModuleNotFoundError\u001b[0m: No module named 'awkde'",
            "",
            "\u001b[0;31m---------------------------------------------------------------------------\u001b[0;32m\nNOTE: If your import is failing due to a missing package, you can\nmanually install dependencies using either !pip or !apt.\n\nTo view examples of installing some common dependencies, click the\n\"Open Examples\" button below.\n\u001b[0;31m---------------------------------------------------------------------------\u001b[0m\n"
          ],
          "errorDetails": {
            "actions": [
              {
                "action": "open_url",
                "actionText": "Open Examples",
                "url": "/notebooks/snippets/importing_libraries.ipynb"
              }
            ]
          }
        }
      ]
    },
    {
      "cell_type": "code",
      "metadata": {
        "id": "03Yb-f_cQrxJ"
      },
      "source": [
        ""
      ],
      "execution_count": null,
      "outputs": []
    }
  ]
}